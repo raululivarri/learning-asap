{
 "cells": [
  {
   "cell_type": "markdown",
   "id": "23dbc674",
   "metadata": {},
   "source": [
    "## Data Science Tools and Ecosystem"
   ]
  },
  {
   "cell_type": "markdown",
   "id": "3fa8e659",
   "metadata": {},
   "source": [
    "## Here we'll see about tools for data science and ecosystem"
   ]
  },
  {
   "cell_type": "markdown",
   "id": "81e92847",
   "metadata": {},
   "source": [
    "**Objectives:**"
   ]
  },
  {
   "cell_type": "markdown",
   "id": "3219ffff",
   "metadata": {},
   "source": [
    "+ Popular languajes\n",
    "+ Useful and common tools\n",
    "+ Different enviroments"
   ]
  },
  {
   "cell_type": "markdown",
   "id": "2ed8d733",
   "metadata": {},
   "source": [
    "### In data science, there are different languajes to use, being for example:"
   ]
  },
  {
   "cell_type": "markdown",
   "id": "0c50ac35",
   "metadata": {},
   "source": [
    "1. Java\n",
    "2. Julia\n",
    "3. Python\n",
    "4. R"
   ]
  },
  {
   "cell_type": "markdown",
   "id": "9fa8b3a5",
   "metadata": {},
   "source": [
    "### In data science we also have available libraries, such as:"
   ]
  },
  {
   "cell_type": "markdown",
   "id": "1622abb5",
   "metadata": {},
   "source": [
    "1. Pandas\n",
    "2. Tensorflow\n",
    "3. Numpy\n",
    "4. Matplotlib"
   ]
  },
  {
   "cell_type": "markdown",
   "id": "f271d3cd",
   "metadata": {},
   "source": [
    "|Data Science Tools|\n",
    "-------------------\n",
    "|JupyterLab|\n",
    "|VS Code|\n",
    "|Google Colaboratory|"
   ]
  },
  {
   "cell_type": "markdown",
   "id": "ea9a50ab",
   "metadata": {},
   "source": [
    "### In Python, some arithmetic expressions can be written to get results. For instance:"
   ]
  },
  {
   "cell_type": "code",
   "execution_count": 4,
   "id": "e27a6b0b",
   "metadata": {},
   "outputs": [
    {
     "data": {
      "text/plain": [
       "17"
      ]
     },
     "execution_count": 4,
     "metadata": {},
     "output_type": "execute_result"
    }
   ],
   "source": [
    "# This is an example of a math calculation:\n",
    "(3*4)+5"
   ]
  },
  {
   "cell_type": "code",
   "execution_count": 5,
   "id": "452fc25c",
   "metadata": {},
   "outputs": [
    {
     "data": {
      "text/plain": [
       "3.3333333333333335"
      ]
     },
     "execution_count": 5,
     "metadata": {},
     "output_type": "execute_result"
    }
   ],
   "source": [
    "# We also can try converting minutes to hours, like follows:\n",
    "200/60"
   ]
  },
  {
   "cell_type": "markdown",
   "id": "ecfba2b6",
   "metadata": {},
   "source": [
    "## Author"
   ]
  },
  {
   "cell_type": "markdown",
   "id": "7ccaded5",
   "metadata": {},
   "source": [
    "Raúl Ulivarri"
   ]
  }
 ],
 "metadata": {
  "kernelspec": {
   "display_name": "Python 3 (ipykernel)",
   "language": "python",
   "name": "python3"
  },
  "language_info": {
   "codemirror_mode": {
    "name": "ipython",
    "version": 3
   },
   "file_extension": ".py",
   "mimetype": "text/x-python",
   "name": "python",
   "nbconvert_exporter": "python",
   "pygments_lexer": "ipython3",
   "version": "3.9.16"
  }
 },
 "nbformat": 4,
 "nbformat_minor": 5
}
